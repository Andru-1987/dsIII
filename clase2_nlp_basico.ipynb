{
 "cells": [
  {
   "cell_type": "markdown",
   "metadata": {},
   "source": [
    "# Carga de datos\n",
    "Utilizamos un conjunto de datos de alrededor de 37000 reseñas de videos de Amazon Instant Video y 1700000 reseñas de películas y programas de televisión, todas obtenidas del sitio web: http://jmcauley.ucsd.edu/data/amazon/. Tenga en cuenta que hay conjuntos de datos mucho más grandes disponibles en el mismo sitio. Podemos esperar resultados mejores y más consistentes en conjuntos de datos más grandes (como reseñas de libros). Tenga en cuenta que estos conjuntos de datos están comprimidos (gzip) y están en formato JSON, cada línea representa una revisión y cada línea es su propio objeto JSON."
   ]
  },
  {
   "cell_type": "markdown",
   "metadata": {},
   "source": [
    "## [NLTK](https://www.nltk.org/)"
   ]
  },
  {
   "cell_type": "code",
   "execution_count": null,
   "metadata": {},
   "outputs": [],
   "source": [
    "# ! pip install --user -U nltk"
   ]
  },
  {
   "cell_type": "code",
   "execution_count": null,
   "metadata": {},
   "outputs": [],
   "source": [
    "%%time\n",
    "import gzip\n",
    "import json\n",
    "import string\n",
    "\n",
    "import nltk # imports the natural language toolkit -- una libreria que nos sirve para hacer procesos de NLP\n",
    "import pandas as pd\n",
    "import plotly\n",
    "\n",
    "\n",
    "# https://www.nltk.org/api/nltk.tokenize.punkt.html\n",
    "nltk.download('punkt')"
   ]
  },
  {
   "cell_type": "code",
   "execution_count": null,
   "metadata": {},
   "outputs": [],
   "source": [
    "data_uri_raw: str = \"https://github.com/Andru-1987/csv_files_ds/raw/refs/heads/main/reviews_Amazon_Instant_Video_5.json.gz\"\n",
    "data_uri_movies: str = \"http://snap.stanford.edu/data/amazon/productGraph/categoryFiles/reviews_Movies_and_TV_5.json.gz\""
   ]
  },
  {
   "cell_type": "code",
   "execution_count": null,
   "metadata": {},
   "outputs": [],
   "source": [
    "instant_video = pd.read_json(data_uri_raw, lines=True, compression='gzip')"
   ]
  },
  {
   "cell_type": "code",
   "execution_count": null,
   "metadata": {},
   "outputs": [],
   "source": [
    "len(instant_video)"
   ]
  },
  {
   "cell_type": "code",
   "execution_count": null,
   "metadata": {},
   "outputs": [],
   "source": [
    "instant_video.head(10)"
   ]
  },
  {
   "cell_type": "code",
   "execution_count": null,
   "metadata": {},
   "outputs": [],
   "source": [
    "%%time\n",
    "# podemos decirle a pandas que nuestro archivo esta en formato gzip y realizara el proceso de descompresion \n",
    "# para esto usamos el atributo `lines=True` para indicar que cada linea en el archivo tiene su propio JSON object\n",
    "#instant_video = pd.read_json(\"reviews_Amazon_Instant_Video_5.json.gz\", lines=True, compression='gzip')\n",
    "# ----------\n",
    "# El archivo Películas y TV es muy grande. Si tienes problemas para cargarlo, puedes cargar solo los primeros\n",
    "# 100,000 reseñas usando 'chunksize' (elimine el comentario de la línea con 'chunksize' y comente la línea\n",
    "# después de lo que carga el archivo completo en `movies_tv`). Todo el análisis puede ser\n",
    "# hecho de la misma manera utilizando solo el subconjunto de revisiones, pero algunos de los resultados pueden ser diferentes de los ejemplos.\n",
    "# ----------\n",
    "movies_tv = next(pd.read_json(data_uri_movies, lines=True, compression='gzip', chunksize=10_000))\n",
    "movies_tv.sample(10)"
   ]
  },
  {
   "cell_type": "markdown",
   "metadata": {},
   "source": [
    "Miremos algunos de los atributos\n",
    "\n",
    "* **reviewerID:** A unique ID to identify the author of the review.\n",
    "* **asin:** The [\"Amazon Standard Identification Number\"](https://www.amazon.com/gp/seller/asin-upc-isbn-info.html) which provides more information about the exact product and version.\n",
    "* **reviewerName:** The username chosen by the reviewer.\n",
    "* **helpful:** A record of how many users indicated that the review was helpful/not helpful.\n",
    "* **reviewText:** The full text of the review.\n",
    "* **overall:** The overall rating (1-5) left by the reviewer.\n",
    "* **summary:** A short version of the review, used as the title.\n",
    "* **unixReviewTime:** The date that the review was created, in [Unix Epoch](https://en.wikipedia.org/wiki/Unix_time) format.\n",
    "* **reviewTime:** A human readable date giving the day, month, and year."
   ]
  },
  {
   "cell_type": "markdown",
   "metadata": {},
   "source": [
    "## INFORMACION DE LA DATA"
   ]
  },
  {
   "cell_type": "code",
   "execution_count": null,
   "metadata": {},
   "outputs": [],
   "source": [
    "movies_tv['datetime'] = pd.to_datetime(movies_tv['reviewTime'], format=\"%m %d, %Y\")\n",
    "instant_video['datetime'] = pd.to_datetime(instant_video['reviewTime'], format=\"%m %d, %Y\")"
   ]
  },
  {
   "cell_type": "markdown",
   "metadata": {},
   "source": [
    "## CLEAN DATAFRAME"
   ]
  },
  {
   "cell_type": "code",
   "execution_count": null,
   "metadata": {},
   "outputs": [],
   "source": [
    "movies_tv = movies_tv.drop(columns = ['reviewerID', 'asin', 'reviewerName', 'reviewTime'])\n",
    "instant_video = instant_video.drop(columns = ['reviewerID', 'asin', 'reviewerName', 'reviewTime'])"
   ]
  },
  {
   "cell_type": "code",
   "execution_count": null,
   "metadata": {},
   "outputs": [],
   "source": [
    "movies_tv.datetime.value_counts().head(20)"
   ]
  },
  {
   "cell_type": "code",
   "execution_count": null,
   "metadata": {},
   "outputs": [],
   "source": [
    "movies_tv.datetime.dt.year.hist()"
   ]
  },
  {
   "cell_type": "code",
   "execution_count": null,
   "metadata": {},
   "outputs": [],
   "source": [
    "instant_video.hist()\n",
    "movies_tv.hist()"
   ]
  },
  {
   "cell_type": "markdown",
   "metadata": {},
   "source": [
    "Notamos eso:\n",
    "\n",
    "1. La mayoría de las reseñas son buenas; de hecho, ¡más de la mitad son perfectas (5/5 estrellas) en ambos conjuntos de datos!\n",
    "2. Casi todas las revisiones de videos instantáneos son extremadamente recientes. Será muy difícil detectar tendencias sin corregir esto. Las reseñas de TV Movie están sustancialmente más dispersas (aunque también incluyen un pico reciente)."
   ]
  },
  {
   "cell_type": "code",
   "execution_count": null,
   "metadata": {},
   "outputs": [],
   "source": [
    "instant_video['year'] = instant_video.datetime.dt.year\n",
    "instant_video.groupby(['year']).agg({'overall': 'mean', 'year': 'count'})"
   ]
  },
  {
   "cell_type": "code",
   "execution_count": null,
   "metadata": {},
   "outputs": [],
   "source": [
    "movies_tv['year'] = movies_tv.datetime.dt.year\n",
    "movies_tv.groupby(['year']).agg({'overall': 'mean', 'year': 'count'})"
   ]
  },
  {
   "cell_type": "markdown",
   "metadata": {},
   "source": [
    "# Promedio de ratings en el tiempo"
   ]
  },
  {
   "cell_type": "code",
   "execution_count": null,
   "metadata": {},
   "outputs": [],
   "source": [
    "result = instant_video.groupby(instant_video.datetime.dt.year).agg({'overall': 'mean', 'overall': 'count'})\n",
    "result"
   ]
  },
  {
   "cell_type": "code",
   "execution_count": null,
   "metadata": {},
   "outputs": [],
   "source": [
    "instant_video.groupby(instant_video.datetime.dt.year)['overall'].mean().to_frame().plot(kind=\"bar\")\n",
    "movies_tv.groupby(movies_tv.datetime.dt.year)['overall'].mean().to_frame().plot(kind=\"bar\")"
   ]
  },
  {
   "cell_type": "markdown",
   "metadata": {},
   "source": [
    "Notamos eso:\n",
    "\n",
    "1. No hay tendencias notables de cambio de calificaciones con el tiempo.\n",
    "\n",
    "2. Hay algunos años atípicos con calificaciones más altas, pero estos son años en los que la cantidad de revisiones es muy pequeña, lo que hace que el promedio sea menos confiable."
   ]
  },
  {
   "cell_type": "code",
   "execution_count": null,
   "metadata": {},
   "outputs": [],
   "source": [
    "instant_video['length'] = instant_video['reviewText'].apply(len)\n",
    "instant_video.groupby(instant_video.datetime.dt.year)['length'].mean().to_frame().plot(kind=\"bar\")\n",
    "\n",
    "movies_tv['length'] = movies_tv['reviewText'].apply(len)\n",
    "movies_tv.groupby(movies_tv.datetime.dt.year)['length'].mean().to_frame().plot(kind=\"bar\")"
   ]
  },
  {
   "cell_type": "markdown",
   "metadata": {},
   "source": [
    "Observamos una aparente tendencia al alza en la duración de las reseñas durante la década de 1990 y principios de la de 2000, seguida de una tendencia a la baja. Debido a que ambos conjuntos de datos tienen revisiones más recientes, la tendencia a la baja en la duración de la revisión es más confiable."
   ]
  },
  {
   "cell_type": "markdown",
   "metadata": {},
   "source": [
    "# FRECUENCIA DE PALABRAS\n",
    "Encontremos las diez palabras sin stopwrods que aparecen con mayor frecuencia en: (i) todas las reseñas, (ii) reseñas positivas, (iii) reseñas negativas. ¿Te sorprenden los resultados? ¿Por qué o por qué no?"
   ]
  },
  {
   "cell_type": "code",
   "execution_count": null,
   "metadata": {},
   "outputs": [],
   "source": [
    "import nltk\n",
    "import re\n",
    "from collections import Counter\n",
    "from nltk.corpus import stopwords\n",
    "\n",
    "import matplotlib.pyplot as plt\n",
    "import seaborn as sns"
   ]
  },
  {
   "cell_type": "code",
   "execution_count": null,
   "metadata": {},
   "outputs": [],
   "source": [
    "def split_reviews(df, threshold):\n",
    "    df_lower = df[df['overall'] < threshold].copy()\n",
    "    df_upper = df[df['overall'] >= threshold].copy()\n",
    "\n",
    "    return df_lower, df_upper\n",
    "\n",
    "def preprocess_text(text):\n",
    "    text = text.lower()  # Lowercasing\n",
    "    text = re.sub(r'\\W', ' ', text)  # Remove special characters\n",
    "    text = re.sub(r'\\s+', ' ', text)  # Remove extra spaces\n",
    "    words = text.split()  # Tokenize\n",
    "    words = [word for word in words if word not in stopwords.words('english')]  # Remove stopwords\n",
    "    return words  # Return a list of words\n",
    "\n",
    "\n",
    "def get_top_n_words(df, col, n):\n",
    "    all_words = [word for review in df[col] for word in review.split()]  # Ensure words are split correctly\n",
    "    word_freq = Counter(all_words)\n",
    "    table = pd.DataFrame(word_freq.most_common(n), columns=[\"word\", \"freq\"])\n",
    "\n",
    "    table.insert(0, 'Rank', range(1, len(table) + 1))\n",
    "    return table\n",
    "\n",
    "def plot_top_words(df, review):\n",
    "    n = len(df)\n",
    "    plt.figure(figsize=(10, 5))\n",
    "    sns.barplot(x='freq', y='word', hue = \"word\",data=df, palette=\"Blues_r\")\n",
    "\n",
    "    plt.xlabel(\"Frequency\", fontsize=12)\n",
    "    plt.ylabel(\"Words\", fontsize=12)\n",
    "    plt.title(f\"Top {n} Most Frequent Words: {review}\", fontsize=12)\n",
    "    plt.grid(axis='x', linestyle=\"--\", alpha=0.5)\n",
    "    plt.show()\n"
   ]
  },
  {
   "cell_type": "code",
   "execution_count": null,
   "metadata": {},
   "outputs": [],
   "source": [
    "movies_tv_chunk =  movies_tv.iloc[:100_000] \n",
    "movies_tv_chunk"
   ]
  },
  {
   "cell_type": "code",
   "execution_count": null,
   "metadata": {},
   "outputs": [],
   "source": [
    "movies_tv_chunk['process_review'] = movies_tv_chunk[\"reviewText\"].apply(preprocess_text)"
   ]
  },
  {
   "cell_type": "code",
   "execution_count": null,
   "metadata": {},
   "outputs": [],
   "source": [
    "bad_reviews, good_reviews = split_reviews(movies_tv, 1)"
   ]
  },
  {
   "cell_type": "code",
   "execution_count": null,
   "metadata": {},
   "outputs": [],
   "source": [
    "TOP = 20\n",
    "\n",
    "for header, dataset in zip([\"All reviews\", \"Bad Reviews\",\"Good Reviews\"],[movies_tv,bad_reviews,good_reviews]):\n",
    "    reviews = get_top_n_words(dataset,\"process_review\", TOP)\n",
    "    plot_top_words(reviews, header)"
   ]
  }
 ],
 "metadata": {
  "kernelspec": {
   "display_name": "Python 3",
   "language": "python",
   "name": "python3"
  },
  "language_info": {
   "codemirror_mode": {
    "name": "ipython",
    "version": 3
   },
   "file_extension": ".py",
   "mimetype": "text/x-python",
   "name": "python",
   "nbconvert_exporter": "python",
   "pygments_lexer": "ipython3",
   "version": "3.12.1"
  }
 },
 "nbformat": 4,
 "nbformat_minor": 2
}
